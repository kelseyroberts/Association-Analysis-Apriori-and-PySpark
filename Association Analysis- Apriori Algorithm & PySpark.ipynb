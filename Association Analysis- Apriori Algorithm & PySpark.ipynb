{
 "cells": [
  {
   "cell_type": "markdown",
   "metadata": {},
   "source": [
    "# Association Analysis using the Apriori Algorithm and PySpark"
   ]
  },
  {
   "cell_type": "markdown",
   "metadata": {},
   "source": [
    "First I will be doing data manipulation on the basket data csv file"
   ]
  },
  {
   "cell_type": "code",
   "execution_count": 2,
   "metadata": {},
   "outputs": [],
   "source": [
    "import pandas as pd\n",
    "import numpy as np"
   ]
  },
  {
   "cell_type": "code",
   "execution_count": 3,
   "metadata": {
    "scrolled": true
   },
   "outputs": [],
   "source": [
    "Data=pd.read_csv(\"Basket_Data.csv\")"
   ]
  },
  {
   "cell_type": "code",
   "execution_count": 4,
   "metadata": {
    "scrolled": true
   },
   "outputs": [
    {
     "data": {
      "text/html": [
       "<div>\n",
       "<style scoped>\n",
       "    .dataframe tbody tr th:only-of-type {\n",
       "        vertical-align: middle;\n",
       "    }\n",
       "\n",
       "    .dataframe tbody tr th {\n",
       "        vertical-align: top;\n",
       "    }\n",
       "\n",
       "    .dataframe thead th {\n",
       "        text-align: right;\n",
       "    }\n",
       "</style>\n",
       "<table border=\"1\" class=\"dataframe\">\n",
       "  <thead>\n",
       "    <tr style=\"text-align: right;\">\n",
       "      <th></th>\n",
       "      <th>Transaction</th>\n",
       "      <th>Item</th>\n",
       "    </tr>\n",
       "  </thead>\n",
       "  <tbody>\n",
       "    <tr>\n",
       "      <th>0</th>\n",
       "      <td>1</td>\n",
       "      <td>Bread</td>\n",
       "    </tr>\n",
       "    <tr>\n",
       "      <th>1</th>\n",
       "      <td>2</td>\n",
       "      <td>Scandinavian</td>\n",
       "    </tr>\n",
       "    <tr>\n",
       "      <th>2</th>\n",
       "      <td>2</td>\n",
       "      <td>Scandinavian</td>\n",
       "    </tr>\n",
       "    <tr>\n",
       "      <th>3</th>\n",
       "      <td>3</td>\n",
       "      <td>Hot chocolate</td>\n",
       "    </tr>\n",
       "    <tr>\n",
       "      <th>4</th>\n",
       "      <td>3</td>\n",
       "      <td>Jam</td>\n",
       "    </tr>\n",
       "  </tbody>\n",
       "</table>\n",
       "</div>"
      ],
      "text/plain": [
       "   Transaction           Item\n",
       "0            1          Bread\n",
       "1            2   Scandinavian\n",
       "2            2   Scandinavian\n",
       "3            3  Hot chocolate\n",
       "4            3            Jam"
      ]
     },
     "execution_count": 4,
     "metadata": {},
     "output_type": "execute_result"
    }
   ],
   "source": [
    "Data.head()"
   ]
  },
  {
   "cell_type": "code",
   "execution_count": null,
   "metadata": {},
   "outputs": [],
   "source": [
    "###add and underscore to cells with 2+ word items to make association analysis easier"
   ]
  },
  {
   "cell_type": "code",
   "execution_count": 5,
   "metadata": {},
   "outputs": [],
   "source": [
    "Data=Data.replace(' ', '_', regex=True)"
   ]
  },
  {
   "cell_type": "markdown",
   "metadata": {},
   "source": [
    "The next goal is to format the data where each transaction is a string of items \n",
    "More in a list form grouped by transaction"
   ]
  },
  {
   "cell_type": "code",
   "execution_count": 6,
   "metadata": {},
   "outputs": [],
   "source": [
    "# Convert 'value' column to string.\n",
    "Data['Item'] = Data['Item'].astype(str)\n",
    "\n",
    "# Perform a groupby and apply a string join.\n",
    "Data_Transformed = Data.groupby('Transaction')['Item'].apply(' '.join).reset_index()"
   ]
  },
  {
   "cell_type": "code",
   "execution_count": 7,
   "metadata": {
    "scrolled": true
   },
   "outputs": [
    {
     "data": {
      "text/html": [
       "<div>\n",
       "<style scoped>\n",
       "    .dataframe tbody tr th:only-of-type {\n",
       "        vertical-align: middle;\n",
       "    }\n",
       "\n",
       "    .dataframe tbody tr th {\n",
       "        vertical-align: top;\n",
       "    }\n",
       "\n",
       "    .dataframe thead th {\n",
       "        text-align: right;\n",
       "    }\n",
       "</style>\n",
       "<table border=\"1\" class=\"dataframe\">\n",
       "  <thead>\n",
       "    <tr style=\"text-align: right;\">\n",
       "      <th></th>\n",
       "      <th>Transaction</th>\n",
       "      <th>Item</th>\n",
       "    </tr>\n",
       "  </thead>\n",
       "  <tbody>\n",
       "    <tr>\n",
       "      <th>0</th>\n",
       "      <td>1</td>\n",
       "      <td>Bread</td>\n",
       "    </tr>\n",
       "    <tr>\n",
       "      <th>1</th>\n",
       "      <td>2</td>\n",
       "      <td>Scandinavian Scandinavian</td>\n",
       "    </tr>\n",
       "    <tr>\n",
       "      <th>2</th>\n",
       "      <td>3</td>\n",
       "      <td>Hot_chocolate Jam Cookies</td>\n",
       "    </tr>\n",
       "    <tr>\n",
       "      <th>3</th>\n",
       "      <td>4</td>\n",
       "      <td>Muffin</td>\n",
       "    </tr>\n",
       "    <tr>\n",
       "      <th>4</th>\n",
       "      <td>5</td>\n",
       "      <td>Coffee Pastry Bread</td>\n",
       "    </tr>\n",
       "    <tr>\n",
       "      <th>5</th>\n",
       "      <td>6</td>\n",
       "      <td>Medialuna Pastry Muffin</td>\n",
       "    </tr>\n",
       "    <tr>\n",
       "      <th>6</th>\n",
       "      <td>7</td>\n",
       "      <td>Medialuna Pastry Coffee Tea</td>\n",
       "    </tr>\n",
       "    <tr>\n",
       "      <th>7</th>\n",
       "      <td>8</td>\n",
       "      <td>Pastry Bread</td>\n",
       "    </tr>\n",
       "    <tr>\n",
       "      <th>8</th>\n",
       "      <td>9</td>\n",
       "      <td>Bread Muffin</td>\n",
       "    </tr>\n",
       "    <tr>\n",
       "      <th>9</th>\n",
       "      <td>10</td>\n",
       "      <td>Scandinavian Medialuna</td>\n",
       "    </tr>\n",
       "    <tr>\n",
       "      <th>10</th>\n",
       "      <td>11</td>\n",
       "      <td>Bread Medialuna Bread NONE</td>\n",
       "    </tr>\n",
       "    <tr>\n",
       "      <th>11</th>\n",
       "      <td>12</td>\n",
       "      <td>Jam Coffee Tartine Pastry Tea</td>\n",
       "    </tr>\n",
       "    <tr>\n",
       "      <th>12</th>\n",
       "      <td>13</td>\n",
       "      <td>Basket Bread Coffee</td>\n",
       "    </tr>\n",
       "    <tr>\n",
       "      <th>13</th>\n",
       "      <td>14</td>\n",
       "      <td>Bread Medialuna Pastry</td>\n",
       "    </tr>\n",
       "    <tr>\n",
       "      <th>14</th>\n",
       "      <td>15</td>\n",
       "      <td>NONE NONE Mineral_water Scandinavian</td>\n",
       "    </tr>\n",
       "    <tr>\n",
       "      <th>15</th>\n",
       "      <td>16</td>\n",
       "      <td>Bread Medialuna Coffee</td>\n",
       "    </tr>\n",
       "    <tr>\n",
       "      <th>16</th>\n",
       "      <td>17</td>\n",
       "      <td>Hot_chocolate</td>\n",
       "    </tr>\n",
       "    <tr>\n",
       "      <th>17</th>\n",
       "      <td>18</td>\n",
       "      <td>Farm_House</td>\n",
       "    </tr>\n",
       "    <tr>\n",
       "      <th>18</th>\n",
       "      <td>19</td>\n",
       "      <td>Farm_House Bread</td>\n",
       "    </tr>\n",
       "    <tr>\n",
       "      <th>19</th>\n",
       "      <td>20</td>\n",
       "      <td>Bread Medialuna</td>\n",
       "    </tr>\n",
       "    <tr>\n",
       "      <th>20</th>\n",
       "      <td>21</td>\n",
       "      <td>Coffee Coffee Medialuna Bread</td>\n",
       "    </tr>\n",
       "    <tr>\n",
       "      <th>21</th>\n",
       "      <td>22</td>\n",
       "      <td>Jam</td>\n",
       "    </tr>\n",
       "    <tr>\n",
       "      <th>22</th>\n",
       "      <td>23</td>\n",
       "      <td>Scandinavian Muffin</td>\n",
       "    </tr>\n",
       "    <tr>\n",
       "      <th>23</th>\n",
       "      <td>24</td>\n",
       "      <td>Bread</td>\n",
       "    </tr>\n",
       "    <tr>\n",
       "      <th>24</th>\n",
       "      <td>25</td>\n",
       "      <td>Scandinavian</td>\n",
       "    </tr>\n",
       "    <tr>\n",
       "      <th>25</th>\n",
       "      <td>26</td>\n",
       "      <td>Fudge</td>\n",
       "    </tr>\n",
       "    <tr>\n",
       "      <th>26</th>\n",
       "      <td>27</td>\n",
       "      <td>Scandinavian</td>\n",
       "    </tr>\n",
       "    <tr>\n",
       "      <th>27</th>\n",
       "      <td>28</td>\n",
       "      <td>Coffee Bread</td>\n",
       "    </tr>\n",
       "    <tr>\n",
       "      <th>28</th>\n",
       "      <td>29</td>\n",
       "      <td>Bread Jam NONE</td>\n",
       "    </tr>\n",
       "    <tr>\n",
       "      <th>29</th>\n",
       "      <td>30</td>\n",
       "      <td>Bread</td>\n",
       "    </tr>\n",
       "    <tr>\n",
       "      <th>...</th>\n",
       "      <td>...</td>\n",
       "      <td>...</td>\n",
       "    </tr>\n",
       "    <tr>\n",
       "      <th>9501</th>\n",
       "      <td>9651</td>\n",
       "      <td>Pastry Coffee</td>\n",
       "    </tr>\n",
       "    <tr>\n",
       "      <th>9502</th>\n",
       "      <td>9652</td>\n",
       "      <td>Baguette</td>\n",
       "    </tr>\n",
       "    <tr>\n",
       "      <th>9503</th>\n",
       "      <td>9653</td>\n",
       "      <td>Coffee Cake</td>\n",
       "    </tr>\n",
       "    <tr>\n",
       "      <th>9504</th>\n",
       "      <td>9654</td>\n",
       "      <td>Hot_chocolate Half_slice_Monster_ My-5_Fruit_S...</td>\n",
       "    </tr>\n",
       "    <tr>\n",
       "      <th>9505</th>\n",
       "      <td>9655</td>\n",
       "      <td>Tea</td>\n",
       "    </tr>\n",
       "    <tr>\n",
       "      <th>9506</th>\n",
       "      <td>9656</td>\n",
       "      <td>Coffee Toast</td>\n",
       "    </tr>\n",
       "    <tr>\n",
       "      <th>9507</th>\n",
       "      <td>9657</td>\n",
       "      <td>Coffee</td>\n",
       "    </tr>\n",
       "    <tr>\n",
       "      <th>9508</th>\n",
       "      <td>9658</td>\n",
       "      <td>Coffee Spanish_Brunch Extra_Salami_or_Feta</td>\n",
       "    </tr>\n",
       "    <tr>\n",
       "      <th>9509</th>\n",
       "      <td>9659</td>\n",
       "      <td>Tea Juice Cake</td>\n",
       "    </tr>\n",
       "    <tr>\n",
       "      <th>9510</th>\n",
       "      <td>9660</td>\n",
       "      <td>Bread</td>\n",
       "    </tr>\n",
       "    <tr>\n",
       "      <th>9511</th>\n",
       "      <td>9664</td>\n",
       "      <td>Coffee Coffee Bread</td>\n",
       "    </tr>\n",
       "    <tr>\n",
       "      <th>9512</th>\n",
       "      <td>9665</td>\n",
       "      <td>Coffee Juice Spanish_Brunch</td>\n",
       "    </tr>\n",
       "    <tr>\n",
       "      <th>9513</th>\n",
       "      <td>9666</td>\n",
       "      <td>Coffee NONE</td>\n",
       "    </tr>\n",
       "    <tr>\n",
       "      <th>9514</th>\n",
       "      <td>9667</td>\n",
       "      <td>NONE Bread Sandwich Sandwich</td>\n",
       "    </tr>\n",
       "    <tr>\n",
       "      <th>9515</th>\n",
       "      <td>9668</td>\n",
       "      <td>Tea Bread</td>\n",
       "    </tr>\n",
       "    <tr>\n",
       "      <th>9516</th>\n",
       "      <td>9669</td>\n",
       "      <td>Farm_House</td>\n",
       "    </tr>\n",
       "    <tr>\n",
       "      <th>9517</th>\n",
       "      <td>9670</td>\n",
       "      <td>Farm_House</td>\n",
       "    </tr>\n",
       "    <tr>\n",
       "      <th>9518</th>\n",
       "      <td>9671</td>\n",
       "      <td>Bread</td>\n",
       "    </tr>\n",
       "    <tr>\n",
       "      <th>9519</th>\n",
       "      <td>9672</td>\n",
       "      <td>Coffee Cookies NONE Extra_Salami_or_Feta</td>\n",
       "    </tr>\n",
       "    <tr>\n",
       "      <th>9520</th>\n",
       "      <td>9673</td>\n",
       "      <td>Spanish_Brunch Coffee Bread</td>\n",
       "    </tr>\n",
       "    <tr>\n",
       "      <th>9521</th>\n",
       "      <td>9674</td>\n",
       "      <td>Coffee</td>\n",
       "    </tr>\n",
       "    <tr>\n",
       "      <th>9522</th>\n",
       "      <td>9676</td>\n",
       "      <td>Smoothies Sandwich</td>\n",
       "    </tr>\n",
       "    <tr>\n",
       "      <th>9523</th>\n",
       "      <td>9677</td>\n",
       "      <td>Tacos/Fajita Coke</td>\n",
       "    </tr>\n",
       "    <tr>\n",
       "      <th>9524</th>\n",
       "      <td>9678</td>\n",
       "      <td>Coffee Tacos/Fajita Toast</td>\n",
       "    </tr>\n",
       "    <tr>\n",
       "      <th>9525</th>\n",
       "      <td>9679</td>\n",
       "      <td>Bread Spanish_Brunch</td>\n",
       "    </tr>\n",
       "    <tr>\n",
       "      <th>9526</th>\n",
       "      <td>9680</td>\n",
       "      <td>Bread</td>\n",
       "    </tr>\n",
       "    <tr>\n",
       "      <th>9527</th>\n",
       "      <td>9681</td>\n",
       "      <td>Truffles Tea Spanish_Brunch Christmas_common</td>\n",
       "    </tr>\n",
       "    <tr>\n",
       "      <th>9528</th>\n",
       "      <td>9682</td>\n",
       "      <td>Muffin Tacos/Fajita Coffee Tea</td>\n",
       "    </tr>\n",
       "    <tr>\n",
       "      <th>9529</th>\n",
       "      <td>9683</td>\n",
       "      <td>Coffee Pastry</td>\n",
       "    </tr>\n",
       "    <tr>\n",
       "      <th>9530</th>\n",
       "      <td>9684</td>\n",
       "      <td>Smoothies</td>\n",
       "    </tr>\n",
       "  </tbody>\n",
       "</table>\n",
       "<p>9531 rows × 2 columns</p>\n",
       "</div>"
      ],
      "text/plain": [
       "      Transaction                                               Item\n",
       "0               1                                              Bread\n",
       "1               2                          Scandinavian Scandinavian\n",
       "2               3                          Hot_chocolate Jam Cookies\n",
       "3               4                                             Muffin\n",
       "4               5                                Coffee Pastry Bread\n",
       "5               6                            Medialuna Pastry Muffin\n",
       "6               7                        Medialuna Pastry Coffee Tea\n",
       "7               8                                       Pastry Bread\n",
       "8               9                                       Bread Muffin\n",
       "9              10                             Scandinavian Medialuna\n",
       "10             11                         Bread Medialuna Bread NONE\n",
       "11             12                      Jam Coffee Tartine Pastry Tea\n",
       "12             13                                Basket Bread Coffee\n",
       "13             14                             Bread Medialuna Pastry\n",
       "14             15               NONE NONE Mineral_water Scandinavian\n",
       "15             16                             Bread Medialuna Coffee\n",
       "16             17                                      Hot_chocolate\n",
       "17             18                                         Farm_House\n",
       "18             19                                   Farm_House Bread\n",
       "19             20                                    Bread Medialuna\n",
       "20             21                      Coffee Coffee Medialuna Bread\n",
       "21             22                                                Jam\n",
       "22             23                                Scandinavian Muffin\n",
       "23             24                                              Bread\n",
       "24             25                                       Scandinavian\n",
       "25             26                                              Fudge\n",
       "26             27                                       Scandinavian\n",
       "27             28                                       Coffee Bread\n",
       "28             29                                     Bread Jam NONE\n",
       "29             30                                              Bread\n",
       "...           ...                                                ...\n",
       "9501         9651                                      Pastry Coffee\n",
       "9502         9652                                           Baguette\n",
       "9503         9653                                        Coffee Cake\n",
       "9504         9654  Hot_chocolate Half_slice_Monster_ My-5_Fruit_S...\n",
       "9505         9655                                                Tea\n",
       "9506         9656                                       Coffee Toast\n",
       "9507         9657                                             Coffee\n",
       "9508         9658         Coffee Spanish_Brunch Extra_Salami_or_Feta\n",
       "9509         9659                                     Tea Juice Cake\n",
       "9510         9660                                              Bread\n",
       "9511         9664                                Coffee Coffee Bread\n",
       "9512         9665                        Coffee Juice Spanish_Brunch\n",
       "9513         9666                                        Coffee NONE\n",
       "9514         9667                       NONE Bread Sandwich Sandwich\n",
       "9515         9668                                          Tea Bread\n",
       "9516         9669                                         Farm_House\n",
       "9517         9670                                         Farm_House\n",
       "9518         9671                                              Bread\n",
       "9519         9672           Coffee Cookies NONE Extra_Salami_or_Feta\n",
       "9520         9673                        Spanish_Brunch Coffee Bread\n",
       "9521         9674                                             Coffee\n",
       "9522         9676                                 Smoothies Sandwich\n",
       "9523         9677                                  Tacos/Fajita Coke\n",
       "9524         9678                          Coffee Tacos/Fajita Toast\n",
       "9525         9679                               Bread Spanish_Brunch\n",
       "9526         9680                                              Bread\n",
       "9527         9681       Truffles Tea Spanish_Brunch Christmas_common\n",
       "9528         9682                     Muffin Tacos/Fajita Coffee Tea\n",
       "9529         9683                                      Coffee Pastry\n",
       "9530         9684                                          Smoothies\n",
       "\n",
       "[9531 rows x 2 columns]"
      ]
     },
     "execution_count": 7,
     "metadata": {},
     "output_type": "execute_result"
    }
   ],
   "source": [
    "###looking at the new data to make sure it worked\n",
    "Data_Transformed"
   ]
  },
  {
   "cell_type": "code",
   "execution_count": 8,
   "metadata": {},
   "outputs": [],
   "source": [
    "df_item = Data_Transformed[['Item']]"
   ]
  },
  {
   "cell_type": "code",
   "execution_count": 9,
   "metadata": {
    "scrolled": true
   },
   "outputs": [
    {
     "data": {
      "text/html": [
       "<div>\n",
       "<style scoped>\n",
       "    .dataframe tbody tr th:only-of-type {\n",
       "        vertical-align: middle;\n",
       "    }\n",
       "\n",
       "    .dataframe tbody tr th {\n",
       "        vertical-align: top;\n",
       "    }\n",
       "\n",
       "    .dataframe thead th {\n",
       "        text-align: right;\n",
       "    }\n",
       "</style>\n",
       "<table border=\"1\" class=\"dataframe\">\n",
       "  <thead>\n",
       "    <tr style=\"text-align: right;\">\n",
       "      <th></th>\n",
       "      <th>Item</th>\n",
       "    </tr>\n",
       "  </thead>\n",
       "  <tbody>\n",
       "    <tr>\n",
       "      <th>0</th>\n",
       "      <td>Bread</td>\n",
       "    </tr>\n",
       "    <tr>\n",
       "      <th>1</th>\n",
       "      <td>Scandinavian Scandinavian</td>\n",
       "    </tr>\n",
       "    <tr>\n",
       "      <th>2</th>\n",
       "      <td>Hot_chocolate Jam Cookies</td>\n",
       "    </tr>\n",
       "    <tr>\n",
       "      <th>3</th>\n",
       "      <td>Muffin</td>\n",
       "    </tr>\n",
       "    <tr>\n",
       "      <th>4</th>\n",
       "      <td>Coffee Pastry Bread</td>\n",
       "    </tr>\n",
       "    <tr>\n",
       "      <th>5</th>\n",
       "      <td>Medialuna Pastry Muffin</td>\n",
       "    </tr>\n",
       "    <tr>\n",
       "      <th>6</th>\n",
       "      <td>Medialuna Pastry Coffee Tea</td>\n",
       "    </tr>\n",
       "    <tr>\n",
       "      <th>7</th>\n",
       "      <td>Pastry Bread</td>\n",
       "    </tr>\n",
       "    <tr>\n",
       "      <th>8</th>\n",
       "      <td>Bread Muffin</td>\n",
       "    </tr>\n",
       "    <tr>\n",
       "      <th>9</th>\n",
       "      <td>Scandinavian Medialuna</td>\n",
       "    </tr>\n",
       "    <tr>\n",
       "      <th>10</th>\n",
       "      <td>Bread Medialuna Bread NONE</td>\n",
       "    </tr>\n",
       "    <tr>\n",
       "      <th>11</th>\n",
       "      <td>Jam Coffee Tartine Pastry Tea</td>\n",
       "    </tr>\n",
       "    <tr>\n",
       "      <th>12</th>\n",
       "      <td>Basket Bread Coffee</td>\n",
       "    </tr>\n",
       "    <tr>\n",
       "      <th>13</th>\n",
       "      <td>Bread Medialuna Pastry</td>\n",
       "    </tr>\n",
       "    <tr>\n",
       "      <th>14</th>\n",
       "      <td>NONE NONE Mineral_water Scandinavian</td>\n",
       "    </tr>\n",
       "    <tr>\n",
       "      <th>15</th>\n",
       "      <td>Bread Medialuna Coffee</td>\n",
       "    </tr>\n",
       "    <tr>\n",
       "      <th>16</th>\n",
       "      <td>Hot_chocolate</td>\n",
       "    </tr>\n",
       "    <tr>\n",
       "      <th>17</th>\n",
       "      <td>Farm_House</td>\n",
       "    </tr>\n",
       "    <tr>\n",
       "      <th>18</th>\n",
       "      <td>Farm_House Bread</td>\n",
       "    </tr>\n",
       "    <tr>\n",
       "      <th>19</th>\n",
       "      <td>Bread Medialuna</td>\n",
       "    </tr>\n",
       "    <tr>\n",
       "      <th>20</th>\n",
       "      <td>Coffee Coffee Medialuna Bread</td>\n",
       "    </tr>\n",
       "    <tr>\n",
       "      <th>21</th>\n",
       "      <td>Jam</td>\n",
       "    </tr>\n",
       "    <tr>\n",
       "      <th>22</th>\n",
       "      <td>Scandinavian Muffin</td>\n",
       "    </tr>\n",
       "    <tr>\n",
       "      <th>23</th>\n",
       "      <td>Bread</td>\n",
       "    </tr>\n",
       "    <tr>\n",
       "      <th>24</th>\n",
       "      <td>Scandinavian</td>\n",
       "    </tr>\n",
       "    <tr>\n",
       "      <th>25</th>\n",
       "      <td>Fudge</td>\n",
       "    </tr>\n",
       "    <tr>\n",
       "      <th>26</th>\n",
       "      <td>Scandinavian</td>\n",
       "    </tr>\n",
       "    <tr>\n",
       "      <th>27</th>\n",
       "      <td>Coffee Bread</td>\n",
       "    </tr>\n",
       "    <tr>\n",
       "      <th>28</th>\n",
       "      <td>Bread Jam NONE</td>\n",
       "    </tr>\n",
       "    <tr>\n",
       "      <th>29</th>\n",
       "      <td>Bread</td>\n",
       "    </tr>\n",
       "    <tr>\n",
       "      <th>...</th>\n",
       "      <td>...</td>\n",
       "    </tr>\n",
       "    <tr>\n",
       "      <th>9501</th>\n",
       "      <td>Pastry Coffee</td>\n",
       "    </tr>\n",
       "    <tr>\n",
       "      <th>9502</th>\n",
       "      <td>Baguette</td>\n",
       "    </tr>\n",
       "    <tr>\n",
       "      <th>9503</th>\n",
       "      <td>Coffee Cake</td>\n",
       "    </tr>\n",
       "    <tr>\n",
       "      <th>9504</th>\n",
       "      <td>Hot_chocolate Half_slice_Monster_ My-5_Fruit_S...</td>\n",
       "    </tr>\n",
       "    <tr>\n",
       "      <th>9505</th>\n",
       "      <td>Tea</td>\n",
       "    </tr>\n",
       "    <tr>\n",
       "      <th>9506</th>\n",
       "      <td>Coffee Toast</td>\n",
       "    </tr>\n",
       "    <tr>\n",
       "      <th>9507</th>\n",
       "      <td>Coffee</td>\n",
       "    </tr>\n",
       "    <tr>\n",
       "      <th>9508</th>\n",
       "      <td>Coffee Spanish_Brunch Extra_Salami_or_Feta</td>\n",
       "    </tr>\n",
       "    <tr>\n",
       "      <th>9509</th>\n",
       "      <td>Tea Juice Cake</td>\n",
       "    </tr>\n",
       "    <tr>\n",
       "      <th>9510</th>\n",
       "      <td>Bread</td>\n",
       "    </tr>\n",
       "    <tr>\n",
       "      <th>9511</th>\n",
       "      <td>Coffee Coffee Bread</td>\n",
       "    </tr>\n",
       "    <tr>\n",
       "      <th>9512</th>\n",
       "      <td>Coffee Juice Spanish_Brunch</td>\n",
       "    </tr>\n",
       "    <tr>\n",
       "      <th>9513</th>\n",
       "      <td>Coffee NONE</td>\n",
       "    </tr>\n",
       "    <tr>\n",
       "      <th>9514</th>\n",
       "      <td>NONE Bread Sandwich Sandwich</td>\n",
       "    </tr>\n",
       "    <tr>\n",
       "      <th>9515</th>\n",
       "      <td>Tea Bread</td>\n",
       "    </tr>\n",
       "    <tr>\n",
       "      <th>9516</th>\n",
       "      <td>Farm_House</td>\n",
       "    </tr>\n",
       "    <tr>\n",
       "      <th>9517</th>\n",
       "      <td>Farm_House</td>\n",
       "    </tr>\n",
       "    <tr>\n",
       "      <th>9518</th>\n",
       "      <td>Bread</td>\n",
       "    </tr>\n",
       "    <tr>\n",
       "      <th>9519</th>\n",
       "      <td>Coffee Cookies NONE Extra_Salami_or_Feta</td>\n",
       "    </tr>\n",
       "    <tr>\n",
       "      <th>9520</th>\n",
       "      <td>Spanish_Brunch Coffee Bread</td>\n",
       "    </tr>\n",
       "    <tr>\n",
       "      <th>9521</th>\n",
       "      <td>Coffee</td>\n",
       "    </tr>\n",
       "    <tr>\n",
       "      <th>9522</th>\n",
       "      <td>Smoothies Sandwich</td>\n",
       "    </tr>\n",
       "    <tr>\n",
       "      <th>9523</th>\n",
       "      <td>Tacos/Fajita Coke</td>\n",
       "    </tr>\n",
       "    <tr>\n",
       "      <th>9524</th>\n",
       "      <td>Coffee Tacos/Fajita Toast</td>\n",
       "    </tr>\n",
       "    <tr>\n",
       "      <th>9525</th>\n",
       "      <td>Bread Spanish_Brunch</td>\n",
       "    </tr>\n",
       "    <tr>\n",
       "      <th>9526</th>\n",
       "      <td>Bread</td>\n",
       "    </tr>\n",
       "    <tr>\n",
       "      <th>9527</th>\n",
       "      <td>Truffles Tea Spanish_Brunch Christmas_common</td>\n",
       "    </tr>\n",
       "    <tr>\n",
       "      <th>9528</th>\n",
       "      <td>Muffin Tacos/Fajita Coffee Tea</td>\n",
       "    </tr>\n",
       "    <tr>\n",
       "      <th>9529</th>\n",
       "      <td>Coffee Pastry</td>\n",
       "    </tr>\n",
       "    <tr>\n",
       "      <th>9530</th>\n",
       "      <td>Smoothies</td>\n",
       "    </tr>\n",
       "  </tbody>\n",
       "</table>\n",
       "<p>9531 rows × 1 columns</p>\n",
       "</div>"
      ],
      "text/plain": [
       "                                                   Item\n",
       "0                                                 Bread\n",
       "1                             Scandinavian Scandinavian\n",
       "2                             Hot_chocolate Jam Cookies\n",
       "3                                                Muffin\n",
       "4                                   Coffee Pastry Bread\n",
       "5                               Medialuna Pastry Muffin\n",
       "6                           Medialuna Pastry Coffee Tea\n",
       "7                                          Pastry Bread\n",
       "8                                          Bread Muffin\n",
       "9                                Scandinavian Medialuna\n",
       "10                           Bread Medialuna Bread NONE\n",
       "11                        Jam Coffee Tartine Pastry Tea\n",
       "12                                  Basket Bread Coffee\n",
       "13                               Bread Medialuna Pastry\n",
       "14                 NONE NONE Mineral_water Scandinavian\n",
       "15                               Bread Medialuna Coffee\n",
       "16                                        Hot_chocolate\n",
       "17                                           Farm_House\n",
       "18                                     Farm_House Bread\n",
       "19                                      Bread Medialuna\n",
       "20                        Coffee Coffee Medialuna Bread\n",
       "21                                                  Jam\n",
       "22                                  Scandinavian Muffin\n",
       "23                                                Bread\n",
       "24                                         Scandinavian\n",
       "25                                                Fudge\n",
       "26                                         Scandinavian\n",
       "27                                         Coffee Bread\n",
       "28                                       Bread Jam NONE\n",
       "29                                                Bread\n",
       "...                                                 ...\n",
       "9501                                      Pastry Coffee\n",
       "9502                                           Baguette\n",
       "9503                                        Coffee Cake\n",
       "9504  Hot_chocolate Half_slice_Monster_ My-5_Fruit_S...\n",
       "9505                                                Tea\n",
       "9506                                       Coffee Toast\n",
       "9507                                             Coffee\n",
       "9508         Coffee Spanish_Brunch Extra_Salami_or_Feta\n",
       "9509                                     Tea Juice Cake\n",
       "9510                                              Bread\n",
       "9511                                Coffee Coffee Bread\n",
       "9512                        Coffee Juice Spanish_Brunch\n",
       "9513                                        Coffee NONE\n",
       "9514                       NONE Bread Sandwich Sandwich\n",
       "9515                                          Tea Bread\n",
       "9516                                         Farm_House\n",
       "9517                                         Farm_House\n",
       "9518                                              Bread\n",
       "9519           Coffee Cookies NONE Extra_Salami_or_Feta\n",
       "9520                        Spanish_Brunch Coffee Bread\n",
       "9521                                             Coffee\n",
       "9522                                 Smoothies Sandwich\n",
       "9523                                  Tacos/Fajita Coke\n",
       "9524                          Coffee Tacos/Fajita Toast\n",
       "9525                               Bread Spanish_Brunch\n",
       "9526                                              Bread\n",
       "9527       Truffles Tea Spanish_Brunch Christmas_common\n",
       "9528                     Muffin Tacos/Fajita Coffee Tea\n",
       "9529                                      Coffee Pastry\n",
       "9530                                          Smoothies\n",
       "\n",
       "[9531 rows x 1 columns]"
      ]
     },
     "execution_count": 9,
     "metadata": {},
     "output_type": "execute_result"
    }
   ],
   "source": [
    "df_item"
   ]
  },
  {
   "cell_type": "code",
   "execution_count": 18,
   "metadata": {},
   "outputs": [],
   "source": [
    "tfile = open('item.txt', 'a')\n",
    "tfile.write(df_item.to_string())\n",
    "tfile.close()"
   ]
  },
  {
   "cell_type": "markdown",
   "metadata": {},
   "source": [
    "Initializing spark and using the apriori algorithm"
   ]
  },
  {
   "cell_type": "code",
   "execution_count": 20,
   "metadata": {},
   "outputs": [],
   "source": [
    "import itertools\n",
    "import pyspark"
   ]
  },
  {
   "cell_type": "code",
   "execution_count": 22,
   "metadata": {},
   "outputs": [],
   "source": [
    "sc.stop()"
   ]
  },
  {
   "cell_type": "code",
   "execution_count": 23,
   "metadata": {},
   "outputs": [],
   "source": [
    "sc=pyspark.SparkContext(\"local\",\"Apriori\")"
   ]
  },
  {
   "cell_type": "code",
   "execution_count": 24,
   "metadata": {},
   "outputs": [],
   "source": [
    "text_input = sc.textFile('item.txt')"
   ]
  },
  {
   "cell_type": "code",
   "execution_count": 25,
   "metadata": {},
   "outputs": [
    {
     "data": {
      "text/plain": [
       "item.txt MapPartitionsRDD[1] at textFile at NativeMethodAccessorImpl.java:0"
      ]
     },
     "execution_count": 25,
     "metadata": {},
     "output_type": "execute_result"
    }
   ],
   "source": [
    "text_input"
   ]
  },
  {
   "cell_type": "code",
   "execution_count": 26,
   "metadata": {},
   "outputs": [
    {
     "data": {
      "text/plain": [
       "9532"
      ]
     },
     "execution_count": 26,
     "metadata": {},
     "output_type": "execute_result"
    }
   ],
   "source": [
    "from operator import add\n",
    "no_of_baskets = text_input.map(lambda line: line.split()).count()\n",
    "no_of_baskets"
   ]
  },
  {
   "cell_type": "code",
   "execution_count": 27,
   "metadata": {},
   "outputs": [],
   "source": [
    "txt_RDD = text_input.map(lambda line:line.split())"
   ]
  },
  {
   "cell_type": "code",
   "execution_count": 28,
   "metadata": {},
   "outputs": [],
   "source": [
    "individual_counts = text_input.flatMap(lambda line: line.split()).map(lambda x: (x,1)).reduceByKey(add)\n",
    "##individual_counts.take(10)"
   ]
  },
  {
   "cell_type": "code",
   "execution_count": 29,
   "metadata": {},
   "outputs": [
    {
     "data": {
      "text/plain": [
       "[('Alfajores', 348),\n",
       " ('Baguette', 151),\n",
       " ('Bread', 3304),\n",
       " ('Brownie', 370),\n",
       " ('Cake', 1011),\n",
       " ('Chicken_Stew', 117),\n",
       " ('Coffee', 5447),\n",
       " ('Coke', 181),\n",
       " ('Cookies', 515),\n",
       " ('Farm_House', 370)]"
      ]
     },
     "execution_count": 29,
     "metadata": {},
     "output_type": "execute_result"
    }
   ],
   "source": [
    "##filtering to only include items that appear more than 100 times\n",
    "freq_items_counts = individual_counts.filter(lambda x: x[1]>=100).sortBy(lambda x: x[0])\n",
    "freq_items_counts.take(10)"
   ]
  },
  {
   "cell_type": "code",
   "execution_count": 30,
   "metadata": {},
   "outputs": [],
   "source": [
    "freq_items_counts_list = individual_counts.filter(lambda x: x[1]>=100).sortBy(lambda x: x[0]).collect()"
   ]
  },
  {
   "cell_type": "code",
   "execution_count": 31,
   "metadata": {},
   "outputs": [
    {
     "data": {
      "text/plain": [
       "['Alfajores',\n",
       " 'Baguette',\n",
       " 'Bread',\n",
       " 'Brownie',\n",
       " 'Cake',\n",
       " 'Chicken_Stew',\n",
       " 'Coffee',\n",
       " 'Coke',\n",
       " 'Cookies',\n",
       " 'Farm_House']"
      ]
     },
     "execution_count": 31,
     "metadata": {},
     "output_type": "execute_result"
    }
   ],
   "source": [
    "freq_items = freq_items_counts.map(lambda x: x[0])\n",
    "freq_items.take(10)"
   ]
  },
  {
   "cell_type": "code",
   "execution_count": 33,
   "metadata": {},
   "outputs": [],
   "source": [
    "freq_items_list = freq_items_counts.map(lambda x: x[0]).collect()"
   ]
  },
  {
   "cell_type": "code",
   "execution_count": 34,
   "metadata": {},
   "outputs": [
    {
     "data": {
      "text/plain": [
       "['Alfajores',\n",
       " 'Baguette',\n",
       " 'Bread',\n",
       " 'Brownie',\n",
       " 'Cake',\n",
       " 'Chicken_Stew',\n",
       " 'Coffee',\n",
       " 'Coke',\n",
       " 'Cookies',\n",
       " 'Farm_House']"
      ]
     },
     "execution_count": 34,
     "metadata": {},
     "output_type": "execute_result"
    }
   ],
   "source": [
    "freq_items_list[:10]"
   ]
  },
  {
   "cell_type": "code",
   "execution_count": 35,
   "metadata": {},
   "outputs": [
    {
     "data": {
      "text/plain": [
       "29"
      ]
     },
     "execution_count": 35,
     "metadata": {},
     "output_type": "execute_result"
    }
   ],
   "source": [
    "no_of_freq_items=freq_items.count()\n",
    "no_of_freq_items"
   ]
  },
  {
   "cell_type": "code",
   "execution_count": 36,
   "metadata": {},
   "outputs": [],
   "source": [
    "def filter_and_pair(lst):\n",
    "    ret=[]\n",
    "    pairs=[]\n",
    "    for i in lst:\n",
    "        if i in freq_items_list:\n",
    "            ret.append(i)\n",
    "    ret.sort()\n",
    "    for pair in itertools.combinations(ret,2):\n",
    "        pairs.append((pair,1))\n",
    "    return(pairs)"
   ]
  },
  {
   "cell_type": "code",
   "execution_count": 37,
   "metadata": {},
   "outputs": [],
   "source": [
    "def confidence(elem):\n",
    "    lst=[]\n",
    "    conf1 = elem[1]/(freq_pair_counts.filter(lambda x: x[0]==elem[0][0]).collect())[0][1]\n",
    "    conf2 = elem[1]/(freq_items_counts.filter(lambda x: x[0]==elem[0][1]).collect())[0][1]\n",
    "    lst.append(((elem[0],elem[1]),conf1))\n",
    "    lst.append(((elem[1],elem[0]),conf2))\n",
    "    return(lst)\n",
    "    "
   ]
  },
  {
   "cell_type": "code",
   "execution_count": 38,
   "metadata": {},
   "outputs": [
    {
     "data": {
      "text/plain": [
       "[(('Alfajores', 'Alfajores'), 22),\n",
       " (('Alfajores', 'Baguette'), 4),\n",
       " (('Alfajores', 'Bread'), 105),\n",
       " (('Alfajores', 'Brownie'), 24),\n",
       " (('Alfajores', 'Cake'), 37),\n",
       " (('Alfajores', 'Coffee'), 243),\n",
       " (('Alfajores', 'Coke'), 4),\n",
       " (('Alfajores', 'Cookies'), 19),\n",
       " (('Alfajores', 'Farm_House'), 4),\n",
       " (('Alfajores', 'Fudge'), 5)]"
      ]
     },
     "execution_count": 38,
     "metadata": {},
     "output_type": "execute_result"
    }
   ],
   "source": [
    "pair_counts = txt_RDD.flatMap(lambda x: filter_and_pair(x)).reduceByKey(add).sortBy( lambda x: x[0])\n",
    "pair_counts.take(10)"
   ]
  },
  {
   "cell_type": "code",
   "execution_count": 39,
   "metadata": {
    "scrolled": true
   },
   "outputs": [
    {
     "data": {
      "text/plain": [
       "[(('Alfajores', 'Bread'), 105),\n",
       " (('Alfajores', 'Coffee'), 243),\n",
       " (('Bread', 'Bread'), 234),\n",
       " (('Bread', 'Brownie'), 110),\n",
       " (('Bread', 'Cake'), 241),\n",
       " (('Bread', 'Coffee'), 1053),\n",
       " (('Bread', 'Cookies'), 145),\n",
       " (('Bread', 'Hot_chocolate'), 139),\n",
       " (('Bread', 'Medialuna'), 167),\n",
       " (('Bread', 'NONE'), 213)]"
      ]
     },
     "execution_count": 39,
     "metadata": {},
     "output_type": "execute_result"
    }
   ],
   "source": [
    "freq_pair_counts = pair_counts.filter(lambda x: x[1]>=100)\n",
    "freq_pair_counts.take(10)\n",
    "freq_pair_counts_list = freq_pair_counts.collect()\n",
    "freq_pair_counts_list[:10]\n"
   ]
  },
  {
   "cell_type": "code",
   "execution_count": 40,
   "metadata": {},
   "outputs": [
    {
     "data": {
      "text/plain": [
       "[('Alfajores', 'Bread'),\n",
       " ('Alfajores', 'Coffee'),\n",
       " ('Bread', 'Bread'),\n",
       " ('Bread', 'Brownie'),\n",
       " ('Bread', 'Cake'),\n",
       " ('Bread', 'Coffee'),\n",
       " ('Bread', 'Cookies'),\n",
       " ('Bread', 'Hot_chocolate'),\n",
       " ('Bread', 'Medialuna'),\n",
       " ('Bread', 'NONE')]"
      ]
     },
     "execution_count": 40,
     "metadata": {},
     "output_type": "execute_result"
    }
   ],
   "source": [
    "freq_pairs = freq_pair_counts.map(lambda x: x[0])\n",
    "freq_pairs.take(10)"
   ]
  },
  {
   "cell_type": "code",
   "execution_count": 41,
   "metadata": {},
   "outputs": [],
   "source": [
    "conf_lst=[]\n",
    "for i in freq_pair_counts_list:\n",
    "    conf1 = i[1]/(freq_items_counts.filter(lambda x: x[0]==i[0][0]).collect())[0][1]\n",
    "    conf2 = i[1]/(freq_items_counts.filter(lambda x: x[0]==i[0][1]).collect())[0][1]\n",
    "    conf_lst.append(((i[0][0],i[0][1]),conf1))\n",
    "    conf_lst.append(((i[0][1],i[0][0]),conf2))"
   ]
  },
  {
   "cell_type": "code",
   "execution_count": 42,
   "metadata": {},
   "outputs": [
    {
     "data": {
      "text/plain": [
       "[(('Toast', 'Coffee'), 0.9140127388535032),\n",
       " (('Pastry', 'Coffee'), 0.706021251475797),\n",
       " (('Alfajores', 'Coffee'), 0.6982758620689655),\n",
       " (('Spanish_Brunch', 'Coffee'), 0.6927710843373494),\n",
       " (('Cake', 'Coffee'), 0.6923837784371909)]"
      ]
     },
     "execution_count": 42,
     "metadata": {},
     "output_type": "execute_result"
    }
   ],
   "source": [
    "conf_lst.sort(key=lambda x: -x[1])\n",
    "conf_lst[:5]"
   ]
  },
  {
   "cell_type": "markdown",
   "metadata": {},
   "source": [
    "\n"
   ]
  },
  {
   "cell_type": "code",
   "execution_count": null,
   "metadata": {},
   "outputs": [],
   "source": []
  }
 ],
 "metadata": {
  "kernelspec": {
   "display_name": "Python 3",
   "language": "python",
   "name": "python3"
  },
  "language_info": {
   "codemirror_mode": {
    "name": "ipython",
    "version": 3
   },
   "file_extension": ".py",
   "mimetype": "text/x-python",
   "name": "python",
   "nbconvert_exporter": "python",
   "pygments_lexer": "ipython3",
   "version": "3.7.0"
  }
 },
 "nbformat": 4,
 "nbformat_minor": 2
}
